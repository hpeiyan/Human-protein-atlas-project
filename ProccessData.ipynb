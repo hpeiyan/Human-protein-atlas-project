{
 "cells": [
  {
   "cell_type": "code",
   "execution_count": null,
   "metadata": {},
   "outputs": [
    {
     "name": "stderr",
     "output_type": "stream",
     "text": [
      "Using TensorFlow backend.\n"
     ]
    },
    {
     "name": "stdout",
     "output_type": "stream",
     "text": [
      "True\n"
     ]
    }
   ],
   "source": [
    "import os\n",
    "import matplotlib.pyplot as plt\n",
    "from keras import models, layers\n",
    "from keras.preprocessing.image import load_img, img_to_array\n",
    "import numpy as np\n",
    "from keras.optimizers import RMSprop\n",
    "from keras.utils import to_categorical\n",
    "import cv2\n",
    "\n",
    "ids = []\n",
    "labels = []\n",
    "train_data_paths = []\n",
    "train_data = []\n",
    "\n",
    "data_dir = r'/home/ubuntu/DeepLearningProject/data/human-protien-data'\n",
    "print(os.path.exists(data_dir))"
   ]
  },
  {
   "cell_type": "code",
   "execution_count": 2,
   "metadata": {},
   "outputs": [
    {
     "name": "stdout",
     "output_type": "stream",
     "text": [
      "Id,Target\n",
      "00070df0-bbc3-11e8-b2bc-ac1f6b6435d0,16 0\n",
      "000a6c98-bb9b-11e8-b2b9-ac1f6b6435d0,7 1 2 0\n",
      "000a9596-bbc4-11e8-b2bc-ac1f6b6435d0,5\n",
      "000c99ba-bba4-11e8-b2b9-ac1f6b6435d0,1\n",
      "001838f8-bbca-11e8-b2bc-ac1f6b6435d0,18\n",
      "001bc\n",
      "the length of labels: 50782\n",
      "the length of ids: 50782\n",
      "['/home/ubuntu/DeepLearningProject/data/human-protien-data/00070df0-bbc3-11e8-b2bc-ac1f6b6435d0_green.png', '/home/ubuntu/DeepLearningProject/data/human-protien-data/00070df0-bbc3-11e8-b2bc-ac1f6b6435d0_green.png', '/home/ubuntu/DeepLearningProject/data/human-protien-data/000a6c98-bb9b-11e8-b2b9-ac1f6b6435d0_green.png']\n"
     ]
    }
   ],
   "source": [
    "train_csv = os.path.join(data_dir,'train.csv')\n",
    "with open(train_csv) as csv:\n",
    "    content = csv.read()\n",
    "    \n",
    "print(content[:220])\n",
    "lines = content.split('\\n')\n",
    "for index, line in enumerate(lines):\n",
    "    if index==0:\n",
    "        continue\n",
    "    line_data = line.split(',')\n",
    "    if not len(line_data)==2:\n",
    "        continue\n",
    "    id = line_data[0]\n",
    "    label_arr = line_data[1]\n",
    "    \n",
    "    if  label_arr.__contains__(' '):\n",
    "        label_split = label_arr.split(' ')\n",
    "        for label in label_split:\n",
    "            labels.append(label)\n",
    "            ids.append(id)\n",
    "    else:\n",
    "        labels.append(label)\n",
    "        ids.append(id)    \n",
    "\n",
    "print('the length of labels: {}'.format(len(labels)))\n",
    "print('the length of ids: {}'.format(len(ids)))\n",
    "\n",
    "\n",
    "for i in ids:\n",
    "    path_data = os.path.join(data_dir,'{}_green.png'.format(i))\n",
    "    train_data_paths.append(path_data)\n",
    "\n",
    "print(train_data_paths[:3])\n"
   ]
  },
  {
   "cell_type": "code",
   "execution_count": 3,
   "metadata": {},
   "outputs": [],
   "source": [
    "# plt.imshow(load_img(train_data_paths[0]))\n",
    "# plt.show()\n",
    "\n",
    "train_num = 10000\n",
    "train_data_paths = train_data_paths[:train_num]\n",
    "labels = labels[:train_num]"
   ]
  },
  {
   "cell_type": "code",
   "execution_count": 4,
   "metadata": {},
   "outputs": [
    {
     "name": "stdout",
     "output_type": "stream",
     "text": [
      "loading data, now 0\n",
      "loading data, now 1000\n",
      "loading data, now 2000\n",
      "loading data, now 3000\n",
      "loading data, now 4000\n",
      "loading data, now 5000\n",
      "loading data, now 6000\n",
      "loading data, now 7000\n",
      "loading data, now 8000\n",
      "loading data, now 9000\n",
      "the shape of training data is (10000, 128, 128, 3)\n",
      "the length of training label is 10000\n"
     ]
    }
   ],
   "source": [
    "for index,data in enumerate(train_data_paths):\n",
    "    img = cv2.imread(data)\n",
    "    img = cv2.resize(img,(128,128))\n",
    "    train_data.append(img_to_array(img)/255.0)\n",
    "    if index == 20000: break\n",
    "    if index % 1000 == 0:\n",
    "        print('loading data, now {}'.format(index))\n",
    "    \n",
    "train_x = np.asarray(train_data,dtype='float32')\n",
    "print('the shape of training data is {}'.format(train_x.shape))\n",
    "labels = labels[:20001]\n",
    "train_y = to_categorical(labels)\n",
    "print('the length of training label is {}'.format(len(labels)))\n"
   ]
  },
  {
   "cell_type": "code",
   "execution_count": 5,
   "metadata": {},
   "outputs": [
    {
     "name": "stdout",
     "output_type": "stream",
     "text": [
      "_________________________________________________________________\n",
      "Layer (type)                 Output Shape              Param #   \n",
      "=================================================================\n",
      "conv2d_1 (Conv2D)            (None, 126, 126, 32)      896       \n",
      "_________________________________________________________________\n",
      "conv2d_2 (Conv2D)            (None, 124, 124, 64)      18496     \n",
      "_________________________________________________________________\n",
      "max_pooling2d_1 (MaxPooling2 (None, 62, 62, 64)        0         \n",
      "_________________________________________________________________\n",
      "conv2d_3 (Conv2D)            (None, 60, 60, 128)       73856     \n",
      "_________________________________________________________________\n",
      "max_pooling2d_2 (MaxPooling2 (None, 30, 30, 128)       0         \n",
      "_________________________________________________________________\n",
      "conv2d_4 (Conv2D)            (None, 28, 28, 128)       147584    \n",
      "_________________________________________________________________\n",
      "max_pooling2d_3 (MaxPooling2 (None, 14, 14, 128)       0         \n",
      "_________________________________________________________________\n",
      "flatten_1 (Flatten)          (None, 25088)             0         \n",
      "_________________________________________________________________\n",
      "dense_1 (Dense)              (None, 64)                1605696   \n",
      "_________________________________________________________________\n",
      "dense_2 (Dense)              (None, 32)                2080      \n",
      "_________________________________________________________________\n",
      "dense_3 (Dense)              (None, 28)                924       \n",
      "=================================================================\n",
      "Total params: 1,849,532\n",
      "Trainable params: 1,849,532\n",
      "Non-trainable params: 0\n",
      "_________________________________________________________________\n"
     ]
    }
   ],
   "source": [
    "\n",
    "model = models.Sequential()\n",
    "model.add(layers.Conv2D(filters=32,\n",
    "                        kernel_size=(3,3),\n",
    "                        padding='valid',\n",
    "                        activation='relu',\n",
    "                        input_shape=(128,128,3)))\n",
    "# model.add(layers.MaxPool2D(2,2))\n",
    "\n",
    "model.add(layers.Conv2D(filters=64,\n",
    "                      kernel_size= (3,3),\n",
    "                       activation='relu'))\n",
    "model.add(layers.MaxPool2D((2,2)))\n",
    "\n",
    "model.add(layers.Conv2D(filters=128,\n",
    "                      kernel_size= (3,3),\n",
    "                       activation='relu'))\n",
    "model.add(layers.MaxPool2D((2,2)))\n",
    "\n",
    "model.add(layers.Conv2D(filters=128,\n",
    "                      kernel_size= (3,3),\n",
    "                       activation='relu'))\n",
    "model.add(layers.MaxPool2D((2,2)))\n",
    "\n",
    "model.add(layers.Flatten())\n",
    "model.add(layers.Dense(units=64,activation='relu'))\n",
    "model.add(layers.Dense(units=32,activation='relu'))\n",
    "model.add(layers.Dense(units=28,activation='softmax'))\n",
    "model.summary()\n"
   ]
  },
  {
   "cell_type": "code",
   "execution_count": 6,
   "metadata": {},
   "outputs": [
    {
     "name": "stdout",
     "output_type": "stream",
     "text": [
      "Train on 8000 samples, validate on 2000 samples\n",
      "Epoch 1/20\n",
      "8000/8000 [==============================] - 33s 4ms/step - loss: 2.7157 - acc: 0.3450 - val_loss: 2.5090 - val_acc: 0.3790\n",
      "Epoch 2/20\n",
      "8000/8000 [==============================] - 24s 3ms/step - loss: 2.3570 - acc: 0.3646 - val_loss: 2.3844 - val_acc: 0.3655\n",
      "Epoch 3/20\n",
      "8000/8000 [==============================] - 24s 3ms/step - loss: 2.3017 - acc: 0.3630 - val_loss: 2.3156 - val_acc: 0.3780\n",
      "Epoch 4/20\n",
      "8000/8000 [==============================] - 24s 3ms/step - loss: 2.2927 - acc: 0.3626 - val_loss: 2.3704 - val_acc: 0.3555\n",
      "Epoch 5/20\n",
      "8000/8000 [==============================] - 24s 3ms/step - loss: 2.2851 - acc: 0.3655 - val_loss: 2.2870 - val_acc: 0.3770\n",
      "Epoch 6/20\n",
      "8000/8000 [==============================] - 24s 3ms/step - loss: 2.2768 - acc: 0.3625 - val_loss: 2.2959 - val_acc: 0.3780\n",
      "Epoch 7/20\n",
      "8000/8000 [==============================] - 24s 3ms/step - loss: 2.2614 - acc: 0.3648 - val_loss: 2.2867 - val_acc: 0.3785\n",
      "Epoch 8/20\n",
      "8000/8000 [==============================] - 24s 3ms/step - loss: 2.2315 - acc: 0.3686 - val_loss: 2.3260 - val_acc: 0.3595\n",
      "Epoch 9/20\n",
      "8000/8000 [==============================] - 24s 3ms/step - loss: 2.1875 - acc: 0.3687 - val_loss: 2.3492 - val_acc: 0.3780\n",
      "Epoch 10/20\n",
      "8000/8000 [==============================] - 24s 3ms/step - loss: 2.1336 - acc: 0.3732 - val_loss: 2.4791 - val_acc: 0.3785\n",
      "Epoch 11/20\n",
      "8000/8000 [==============================] - 24s 3ms/step - loss: 2.0626 - acc: 0.3846 - val_loss: 2.4034 - val_acc: 0.3620\n",
      "Epoch 12/20\n",
      "8000/8000 [==============================] - 24s 3ms/step - loss: 1.9766 - acc: 0.3930 - val_loss: 2.4154 - val_acc: 0.3585\n",
      "Epoch 13/20\n",
      "8000/8000 [==============================] - 24s 3ms/step - loss: 1.8938 - acc: 0.3916 - val_loss: 2.4570 - val_acc: 0.3620\n",
      "Epoch 14/20\n",
      "8000/8000 [==============================] - 24s 3ms/step - loss: 1.8029 - acc: 0.4088 - val_loss: 2.5340 - val_acc: 0.3535\n",
      "Epoch 15/20\n",
      "8000/8000 [==============================] - 24s 3ms/step - loss: 1.7074 - acc: 0.4155 - val_loss: 2.7442 - val_acc: 0.3375\n",
      "Epoch 16/20\n",
      "8000/8000 [==============================] - 24s 3ms/step - loss: 1.6180 - acc: 0.4259 - val_loss: 2.7355 - val_acc: 0.3315\n",
      "Epoch 17/20\n",
      "8000/8000 [==============================] - 24s 3ms/step - loss: 1.5410 - acc: 0.4331 - val_loss: 2.7140 - val_acc: 0.2990\n",
      "Epoch 18/20\n",
      "8000/8000 [==============================] - 24s 3ms/step - loss: 1.4597 - acc: 0.4451 - val_loss: 2.7289 - val_acc: 0.3225\n",
      "Epoch 19/20\n",
      "8000/8000 [==============================] - 24s 3ms/step - loss: 1.3922 - acc: 0.4572 - val_loss: 2.9944 - val_acc: 0.3515\n",
      "Epoch 20/20\n",
      "8000/8000 [==============================] - 24s 3ms/step - loss: 1.3233 - acc: 0.4599 - val_loss: 2.9756 - val_acc: 0.3345\n"
     ]
    },
    {
     "data": {
      "image/png": "[encoded data removed]",
      "text/plain": [
       "<Figure size 432x288 with 1 Axes>"
      ]
     },
     "metadata": {},
     "output_type": "display_data"
    },
    {
     "data": {
      "image/png": "[encoded data removed]",
      "text/plain": [
       "<Figure size 432x288 with 1 Axes>"
      ]
     },
     "metadata": {},
     "output_type": "display_data"
    }
   ],
   "source": [
    "model.compile(optimizer=RMSprop(1e-3),\n",
    "             loss='categorical_crossentropy',\n",
    "             metrics=['acc'])\n",
    "\n",
    "history = model.fit(x=train_x,\n",
    "                    y=train_y,\n",
    "                    batch_size=128,\n",
    "                    epochs=20,\n",
    "                    validation_split=0.2)\n",
    "\n",
    "train_acc = history.history['acc']\n",
    "val_acc = history.history['val_acc']\n",
    "train_loss = history.history['loss']\n",
    "val_loss = history.history['val_loss']\n",
    "\n",
    "enm = range(1,len(train_acc)+1)\n",
    "plt.plot(enm,train_acc,label='training acc')\n",
    "plt.plot(enm,val_acc,label='val acc')\n",
    "plt.legend()\n",
    "plt.figure()\n",
    "plt.plot(enm,train_loss,label='training loss')\n",
    "plt.plot(enm,val_loss,label='val loss')\n",
    "plt.legend()\n",
    "plt.show()\n"
   ]
  },
  {
   "cell_type": "code",
   "execution_count": null,
   "metadata": {},
   "outputs": [],
   "source": []
  }
 ],
 "metadata": {
  "kernelspec": {
   "display_name": "Environment (conda_tensorflow_p36)",
   "language": "python",
   "name": "conda_tensorflow_p36"
  },
  "language_info": {
   "codemirror_mode": {
    "name": "ipython",
    "version": 3
   },
   "file_extension": ".py",
   "mimetype": "text/x-python",
   "name": "python",
   "nbconvert_exporter": "python",
   "pygments_lexer": "ipython3",
   "version": "3.6.5"
  }
 },
 "nbformat": 4,
 "nbformat_minor": 2
}
